{
 "cells": [
  {
   "cell_type": "code",
   "execution_count": 24,
   "metadata": {},
   "outputs": [],
   "source": [
    "import numpy as np"
   ]
  },
  {
   "cell_type": "code",
   "execution_count": 1,
   "metadata": {},
   "outputs": [],
   "source": [
    "file_path = \"./test/wannier_hr.dat\""
   ]
  },
  {
   "cell_type": "code",
   "execution_count": null,
   "metadata": {},
   "outputs": [],
   "source": [
    "with open(file_path) as file:\n",
    "    lines = file.readlines()\n",
    "num_orbital = int(lines[1].strip()) #Get number of orbitals\n",
    "num_points = int(lines[2].strip()) #Get number of points\n",
    "sym_lines = int(np.ceil(num_points/15)) #Calculate number of lines for symmetry\n",
    "sym = np.zeros(num_points,dtype=int) #Initialize the symmetry factor array\n",
    "for j,i in enumerate(lines[3:3+sym_lines]): #Run over symmetry lines\n",
    "    for l,k in enumerate(i.strip().split()): #Run over symmetry items\n",
    "        sym[j*15+l] = int(k) #Fill the symmetry array\n",
    "\n",
    "positions = np.zeros(shape=(num_points,3)) \n",
    "# for j,i in enumerate(lines[3+sym_lines:]): #Run over hopping lines\n",
    "for j,i in enumerate(lines[3+sym_lines:]): #Run over hopping lines\n",
    "    if j%num_orbital**2==0:\n",
    "        positions[int(j/num_orbital**2)]=np.array(i.strip().split()[:3],dtype=int)\n",
    "    "
   ]
  }
 ],
 "metadata": {
  "kernelspec": {
   "display_name": "Python 3",
   "language": "python",
   "name": "python3"
  },
  "language_info": {
   "codemirror_mode": {
    "name": "ipython",
    "version": 3
   },
   "file_extension": ".py",
   "mimetype": "text/x-python",
   "name": "python",
   "nbconvert_exporter": "python",
   "pygments_lexer": "ipython3",
   "version": "3.12.7"
  }
 },
 "nbformat": 4,
 "nbformat_minor": 2
}
